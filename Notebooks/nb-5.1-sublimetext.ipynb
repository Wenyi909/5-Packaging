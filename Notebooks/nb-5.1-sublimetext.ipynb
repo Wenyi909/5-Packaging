{
 "cells": [
  {
   "cell_type": "markdown",
   "metadata": {},
   "source": [
    "# Learning a text-editor"
   ]
  },
  {
   "cell_type": "markdown",
   "metadata": {},
   "source": [
    "Learning to use an efficient coding text-editor can help to superpower your coding skills. It makes it dramatically easier to search through long scripts, jump between different script files, and to test changes in your code. Many good text editors will *even point out errors in your code before you run it*, which can save you a lot of time, or highlight which lines have been changed since your last git commit. "
   ]
  },
  {
   "cell_type": "markdown",
   "metadata": {},
   "source": [
    "### Popular text editors for coding \n",
    "Currently the most popular text editors used for coding are shown below. All of these are quite different and offer different types of benefits that are sometimes more useful for one type of coding (e.g., web development) versus another (e.g., scientific coding). \n",
    "\n",
    "+ Atom\n",
    "+ SublimeText\n",
    "+ Emacs\n",
    "+ Vim\n"
   ]
  },
  {
   "cell_type": "markdown",
   "metadata": {},
   "source": [
    "Emacs and Vim have been around the longest and have historically been pitted against each other as a sort of zero-sum battle to the death. Everyone learns one or the other, completely falls in love with their choice, and then despises the competing editor. This is partly because they are so different in style, and when you get comfortable with one it feels unnatural to change. So far, most of you will have at least tried out the simple text editor `nano`, which uses a set of key-bindings similar to those in `emacs`, which is the editor that I originally learned on. I eventually moved on to `SublimeText`, but within it I use keybindings (keyboard shortcuts) similar to emacs. Since we only have limited time to spend on text editors I'll teach you the editor that I use, to give you a good idea of its capabilities, but you may be interested in trying others later to find your favorite. `Sublimetext` and `Atom` are the modern choice for most users, but many people still use either of them with third-party add-ons that allow the use of older emacs or vim-style keybindings. "
   ]
  },
  {
   "cell_type": "markdown",
   "metadata": {},
   "source": [
    "### Install sublimetext\n",
    "\n",
    "Although we have encouraged the use of local conda installations for most scientific software so far, your text editor is better installed as a system-wide tool. So I recommend following normal installation instructions from here to install sublimetext3 on your system. https://www.sublimetext.com/3"
   ]
  },
  {
   "cell_type": "markdown",
   "metadata": {},
   "source": [
    "Once installed, you can open Sublime by clicking on its icon, or better yet, from a terminal, by typing `subl .` (Windows users see note). The dot at the end of the command tells it to open the current directory for editing. This should open up the editor with a view of filesystem in your current dir. "
   ]
  },
  {
   "cell_type": "markdown",
   "metadata": {},
   "source": [
    "**If you are on Windows** the `subl .` command will not work right away, you will need to create it by creating an `alias` in your `~/.bash_profile` file. Remember we've done this before. Create one now by editing this file *with Sublime* and adding the following line `alias subl=\"/c/Program\\ Files/Sublime\\ Text\\ 3/sublime_text.exe\"`. As usual, take care that you cannot have any typos in the path to the sublime exe file or the alias will not work. Save the file when you are done and close the sublime window. Then run `source ~/.bash_profile`. Now you should be able to run `subl .` to open the current directory in sublime. "
   ]
  },
  {
   "cell_type": "markdown",
   "metadata": {},
   "source": [
    "![GIF:open-sublime.gif](../images/open-sublime.gif)"
   ]
  },
  {
   "cell_type": "markdown",
   "metadata": {},
   "source": [
    "### The command palette\n",
    "Access the sublime command palette by pressing `<ctrl> + <shift> + p`. This means hold down control and shift and p at the same time. From here you can search all available commands in sublime. "
   ]
  },
  {
   "cell_type": "markdown",
   "metadata": {},
   "source": [
    "### Install `Package Control`\n",
    "This is the built-in package installer for Sublimetext. The *best* part of sublimetext is the amazing collection of third party libraries that users have developed for it. Using package control we can search for, install, and remove packages easily. The first thing you need to do after installing sublimetext is to open the command palette and type `Package Control` to install it. "
   ]
  },
  {
   "cell_type": "markdown",
   "metadata": {},
   "source": [
    "### Install add-ons\n",
    "To use Package Control to install packages type `install package` into the command palette and then hit enter. Wait a second and then a list of all of the available packages will pop-up. You can begin to type the name of a package to see it pop-up. Let's start by installing a really useful tool for editing Markdown files called `Markdown Preview`. Type the name and hit enter to install it. \n"
   ]
  },
  {
   "cell_type": "markdown",
   "metadata": {},
   "source": [
    "![GIF:sublime-markdown.gif](../images/sublime-markdown.gif)"
   ]
  },
  {
   "cell_type": "markdown",
   "metadata": {},
   "source": [
    "### Using markdown-preview\n",
    "Markdown preview is a nice package for checking your markdown documents while you are writing them. I usually write markdown either using a Jupyter notebook, or in sublime, depending on how long the text will be and whether there is a lot of executed code in it. When writing in sublime you can simply bring up the command palette at any time (`ctrl-shift-p`) and type markdown preview and a preview of the document will be opened in your default browser. Example below. "
   ]
  },
  {
   "cell_type": "markdown",
   "metadata": {},
   "source": [
    "![GIF:sublime-markdown2.gif](../images/sublime-markdown2.gif)"
   ]
  },
  {
   "cell_type": "markdown",
   "metadata": {},
   "source": [
    "### User settings/preferences\n",
    "There is a huge range of settings that you use to customize your experience in sublimetext. And perhaps the best part about sublime is that the code itself is *all written in Python*. This means it's actually not that hard to write your own customizations, or at least to understand the code others have written when you search for a type of customization. Custom settings are entered by typing `Settings` into the command palette. This will open a new window with two files side-by-side. The left one is `Preferences.sublime-settings -- Default` and the right one is `Preferences.sublime-settings -- User`. The one of the left shows you all of the default settings that you can change. To change one simply copy it to the User window on the right and change it's value. Let's make a simple change by adding a `ruler` to our text window. Add the following line to the User file inside of the curly braces: `ruler: [80],`. This will make a vertical line at 80 characters. This is a good indicator that you shouldn't write code that is longer than 80 characters wide without making a line brak, since that would be poor style. "
   ]
  },
  {
   "cell_type": "markdown",
   "metadata": {},
   "source": [
    "### gitgutter\n",
    "Another very useful tool is called a gitgutter. Install this the same as above by typing \"install package\" and then \"gitgutter\". This add-on automatically recognizes if the file that you are operating on is being tracked by `git`, and if so, it will show changes that have been made to the file relative to different tracked branches of your repository. These changes will be shown in the `gutter`, which is the column next to the line numbers to the left of your text. "
   ]
  },
  {
   "cell_type": "markdown",
   "metadata": {},
   "source": [
    "![GIF:gitgutter.gif](../images/gitgutter.gif)"
   ]
  },
  {
   "cell_type": "markdown",
   "metadata": {},
   "source": [
    "### sublimelinter\n",
    "This one is a little bit tricky, but is perhaps one of the most powerful tools for learning to write Python code well. It is called a `linter`, and it is basically a little robot that checks your code *as you write it*. Before we install this with sublime let's first make sure we have the two Python libraries that are required for checking the code. We can install these with the following conda command. "
   ]
  },
  {
   "cell_type": "code",
   "execution_count": 3,
   "metadata": {},
   "outputs": [],
   "source": [
    "# conda install pycodestyle pyflakes -y"
   ]
  },
  {
   "cell_type": "markdown",
   "metadata": {},
   "source": [
    "### sublimelinter-pyflakes\n",
    "We will install two different linters for Python. The first, pyflakes, checks your code for errors. This can save you a ton of time by pointing out dumb mistakes before you even try to run them. As usual, open the command palette, then install-packages, then type `sublimelinter-pyflakes` to install it. "
   ]
  },
  {
   "cell_type": "markdown",
   "metadata": {},
   "source": [
    "### sublimelinter-pycodestyle\n",
    "The next one is pycodestyle. Install this the same way, `sublimelinter-pycodestyle`. This is a like a little robot that gives you tips on how to follow the Python style guide. You don't need to follow all of the style tips, but the constant reminders eventually bury themselves in your head so that you'll become a style conforming robot yourself. As with the gitgutter, both the pyflakes and pycodestyle hints will show up in the gutter with pop-up text that will tell you more details about the problem. "
   ]
  },
  {
   "cell_type": "markdown",
   "metadata": {},
   "source": [
    "### Using sublimelinter\n",
    "Once you have your linters installed you can check your code by either running the linters manually, or by telling them to execute automatically. Right click anywhere in your editor and you should see a pop-up where the bottom most option is `sublimelinter`. Go there and select the option `Lint this view` to find all errors in your current view. Alternatively, you can use the key-binding `ctrl-k l` to execute the linting on the whole document. Finally, you can click in the bottom left corner of the text editor to bring up a console that prints information about what is happening behind the scenes. This tells you more information about each error that the linters found. An example is shown below. "
   ]
  },
  {
   "cell_type": "markdown",
   "metadata": {},
   "source": [
    "![GIF:sublime-linter.gif](../images/sublime-linter.gif)"
   ]
  },
  {
   "cell_type": "markdown",
   "metadata": {},
   "source": [
    "### emacs-mode\n",
    "My personal preference is to use `emacs` keybindings, which can be installed with the add-on `sublemacspro`. This is optional, feel free to give it a try, and remove it if you do not like it. The key-bindings for emacs are very user friendly, and are the same as for the `nano` editor that we've used already. Whereas the emacs keybindings make it easy to move your cursor up-down-left-right by individual characters, the sublime key-bindings instead are aimed towards always searching for words that you can see on the screen. Either is fine, but takes practice to get used to. If you like the emacs way, you can install it here. Otherwise, take time to try to learn the sublime way. "
   ]
  },
  {
   "cell_type": "markdown",
   "metadata": {},
   "source": [
    "#### emacs Cursor Movement\n",
    "\n",
    "`CTRL-b ` go backwards one character without deleting (usually you can also use the cursor key for this)   \n",
    "    \n",
    "`CTRL-f` go forward one character without deleting (usually you can also use the cursor key for this)   \n",
    "\n",
    "`ALT-b`\t go backwards one word \n",
    "\n",
    "`ALT-f`\tgo forward one word \n",
    "\n",
    "`CTRL-p` go up one line (usually you can also use the cursor key for this) \n",
    "\n",
    "`CTRL-n` go down one line (usually you can also use the cursor key for this) \n",
    "\n",
    "`CTRL-a` go to beginning of the line \n",
    "\n",
    "`CTRL-e` go to end of the line \n",
    "\n",
    "`ALT-a` go to beginning of the sentence \n",
    "\n",
    "`ALT-e` go to end of the sentence \n",
    "\n",
    "`ALT-<` go to the beginning of the file \n",
    "\n",
    "`ALT->` go to the end of the file \n",
    "\n",
    "`ALT-x` goto-line: go to the line specified \n",
    "    \n",
    "    \n",
    "#### emacs editing actions\n",
    "\n",
    "`CTRL-g` cancel partially typed or accidental command \n",
    "\n",
    "`CTRL-+` (control and shift and plus character) undo last change\n",
    "\n",
    "`CTRL-k` cut line of text (yank)\n",
    "\n",
    "`CTRL-y` past line of text.\n",
    "\n",
    "#### file save operations\n",
    "\n",
    "`CTRL-x s` save the file (release after ctrl-x then press s)\n",
    "\n",
    "`CTRL-x CTRL-w` save a file with a new name "
   ]
  },
  {
   "cell_type": "markdown",
   "metadata": {},
   "source": [
    "### Removing packages\n",
    "Type `remove package` in the command palette and it will show you available packages that can be uninstalled. "
   ]
  },
  {
   "cell_type": "markdown",
   "metadata": {},
   "source": [
    "### Practice  exercise:\n",
    "Edit the file Notebooks/editme.py in sublimetext and use the sublimelinter to find and fix all of the style or code errors that it finds. The indicators in the gutter should disappear once you've fixed the errors. "
   ]
  }
 ],
 "metadata": {
  "kernelspec": {
   "display_name": "Python 3",
   "language": "python",
   "name": "python3"
  },
  "language_info": {
   "codemirror_mode": {
    "name": "ipython",
    "version": 3
   },
   "file_extension": ".py",
   "mimetype": "text/x-python",
   "name": "python",
   "nbconvert_exporter": "python",
   "pygments_lexer": "ipython3",
   "version": "3.5.4"
  }
 },
 "nbformat": 4,
 "nbformat_minor": 2
}
