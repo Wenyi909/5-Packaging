{
 "cells": [
  {
   "cell_type": "markdown",
   "metadata": {},
   "source": [
    "# Writing a Python package\n",
    "\n",
    "The goal of this notebook is to create an installable Python package. The notation for which is a bit idiosyncratic, but once understood is also quite simple. Once finished, our package can be imported without having to be located in the directory in which we are working. This is a first step in moving towards using a more professional style of code development. \n",
    "\n",
    "\n",
    "A full guide to Python packaging can be found here: http://the-hitchhikers-guide-to-packaging.readthedocs.io/en/latest/quickstart.html. However, I think it will make more sense if you first give it a try. So I recommend completing this notebook and returning to the reading above if you have further questions. You don't need to read too deep into this, it's extra reading for those interested, because it's pretty advanced stuff. "
   ]
  },
  {
   "cell_type": "code",
   "execution_count": 1,
   "metadata": {},
   "outputs": [],
   "source": [
    "import os\n",
    "import sys\n"
   ]
  },
  {
   "cell_type": "markdown",
   "metadata": {},
   "source": [
    "# Python packages\n",
    "\n",
    "To write a Python package you minimally need at least three files organized into a directory. Below a simple example for each of these three files is written as a string, so you can read it, which we will then save to a file in the proper directory structure. We'll use the `os` module to organize the files and directories.  \n",
    "\n",
    "    (1) A setup.py file to install your package (e.g., setup.py).\n",
    "    (2) An init file to organize your scripts into a package (e.g., __init__.py).\n",
    "    (3) A script or set of scripts (e.g., helloworld.py)."
   ]
  },
  {
   "cell_type": "markdown",
   "metadata": {},
   "source": [
    "### The setup.py script\n",
    "The `setup.py` script, when run, packages all of the files from a directory that are connected through `__init__` files to form a coherent object structure, which can then be installed into your Python packages directory. This script calls a function called `setup()` from the standard library package setuptools that tells Python what the package should be named, where it is located, and what version it is. It can provide a lot of other optional information as well. "
   ]
  },
  {
   "cell_type": "code",
   "execution_count": 2,
   "metadata": {},
   "outputs": [],
   "source": [
    "setup = \"\"\"\n",
    "from setuptools import setup\n",
    "setup(\n",
    "    name=\"mypackage\",\n",
    "    version=\"0.1\",\n",
    "    packages=[\"helloworld\"],\n",
    ")\n",
    "\"\"\""
   ]
  },
  {
   "cell_type": "markdown",
   "metadata": {},
   "source": [
    "### The init file\n",
    "Init files tell Python how the different files within a directory should be connected so they can be accessed like an object in Python. For example, the file below says to make the `helloworld()` function from the `helloworld` script accessible. "
   ]
  },
  {
   "cell_type": "code",
   "execution_count": 100,
   "metadata": {},
   "outputs": [],
   "source": [
    "init = \"\"\"\n",
    "from .helloworld import helloworld\n",
    "\"\"\""
   ]
  },
  {
   "cell_type": "markdown",
   "metadata": {},
   "source": [
    "### Scripts\n",
    "Any scripts that you want to have accessible in your package must be pointed to by an `__init__` file. The file below will be saved as `helloworld.py` and contains one function in it called `helloworld()`. This file is imported by `__init__.py`. "
   ]
  },
  {
   "cell_type": "code",
   "execution_count": 3,
   "metadata": {},
   "outputs": [],
   "source": [
    "helloworld = \"\"\"\n",
    "def helloworld():\n",
    "    print(\"hello world\")\n",
    "\"\"\""
   ]
  },
  {
   "cell_type": "markdown",
   "metadata": {},
   "source": [
    "### Let's write these strings to file names in a proper directory structure: \n",
    "The structure will need to look like this, with a set of nested directories, the top one of which has a setup.py script, and all nested directories need to have an `__init__.py` file so that they can be found and loaded. The structure of having an `__init__` call within a directory is similar to the structure of `__init__` calls wihtin Class objects, which is no coincidence. \n",
    "\n",
    "     projectname/\n",
    "         + setup.py\n",
    "         packagename/\n",
    "             + __init__.py\n",
    "             + script.py"
   ]
  },
  {
   "cell_type": "markdown",
   "metadata": {},
   "source": [
    "### The directory for our package can be anywhere\n",
    "To distinguish the new globally importable package that we are writing from packages that we wrote last week that could be locally imported, let's create the new one somewhere other than in our current directory. We'll see that only by running an `install` command can we make a Python package accessible from anywhere. "
   ]
  },
  {
   "cell_type": "code",
   "execution_count": 4,
   "metadata": {},
   "outputs": [],
   "source": [
    "## let's define some names that we'll use for paths\n",
    "prjname = \"helloworld\"\n",
    "pkgname = \"helloworld\"\n",
    "storeloc = os.path.expanduser(\"~/PDSB/\")"
   ]
  },
  {
   "cell_type": "code",
   "execution_count": 5,
   "metadata": {},
   "outputs": [],
   "source": [
    "## now let's create some joint paths with the os module\n",
    "prjpath = os.path.join(storeloc, prjname)\n",
    "pkgpath = os.path.join(storeloc, prjname, pkgname)"
   ]
  },
  {
   "cell_type": "code",
   "execution_count": 6,
   "metadata": {},
   "outputs": [
    {
     "name": "stdout",
     "output_type": "stream",
     "text": [
      "/home/deren/PDSB/helloworld\n",
      "/home/deren/PDSB/helloworld/helloworld\n"
     ]
    }
   ],
   "source": [
    "## check out paths\n",
    "print(prjpath)\n",
    "print(pkgpath)"
   ]
  },
  {
   "cell_type": "code",
   "execution_count": 104,
   "metadata": {},
   "outputs": [],
   "source": [
    "## make the directories (exist_ok allows for it to already exist)\n",
    "os.makedirs(pkgpath, exist_ok=True)"
   ]
  },
  {
   "cell_type": "markdown",
   "metadata": {},
   "source": [
    "### Write the files into our package directory"
   ]
  },
  {
   "cell_type": "code",
   "execution_count": 105,
   "metadata": {},
   "outputs": [],
   "source": [
    "## write setup.py file\n",
    "with open(os.path.join(prjpath, \"setup.py\"), 'w') as out:\n",
    "    out.write(setup)\n",
    "\n",
    "## write init file\n",
    "with open(os.path.join(pkgpath, \"__init__.py\"), 'w') as out:\n",
    "    out.write(init)\n",
    "    \n",
    "## write script to file\n",
    "with open(os.path.join(pkgpath, \"helloworld.py\"), 'w') as out:\n",
    "    out.write(helloworld)"
   ]
  },
  {
   "cell_type": "markdown",
   "metadata": {},
   "source": [
    "### Look at the directory in a shell\n",
    "You can use `ls` to see the new files are created in the proper directory structure. You could look at them using sublimetext by typing `subl .`. Of course we could have written them out to begin with using sublimetext, but I wanted to create them programmatically first to make sure we didn't introduce any typos right away. Once you think you have a good understanding of these three files, let's install our package by typing the command `pip install -e .` (with the dot at the end, explained below). "
   ]
  },
  {
   "cell_type": "markdown",
   "metadata": {},
   "source": [
    "![pipinstall.gif](../images/pipinstall.gif)"
   ]
  },
  {
   "cell_type": "markdown",
   "metadata": {},
   "source": [
    "### Installing for development\n",
    "A key feature I want you to learn is how to install a package in \"development-mode\", which is one of the real hidden tricks of `pip`. By running a pip install with the argument `-e` the package will be installed in a way that it automatically tracks all of the changes you make to this directory. This means that when you make changes to the code in your source directory (e.g., `~/PDSB/helloworld`) those changes will be incorporated next time you run your code without you having to run `install` again to make it aware of the updates. To run this command you need have `cd`'d into the directory and run it with the `.` location, to tell it here. "
   ]
  },
  {
   "cell_type": "markdown",
   "metadata": {},
   "source": [
    "### Importing our package\n",
    "You may need to restart your notebook after running the pip install command in order to load the package below. "
   ]
  },
  {
   "cell_type": "code",
   "execution_count": 7,
   "metadata": {},
   "outputs": [],
   "source": [
    "import helloworld"
   ]
  },
  {
   "cell_type": "code",
   "execution_count": 8,
   "metadata": {},
   "outputs": [
    {
     "name": "stdout",
     "output_type": "stream",
     "text": [
      "hello world\n"
     ]
    }
   ],
   "source": [
    "helloworld.helloworld()"
   ]
  }
 ],
 "metadata": {
  "kernelspec": {
   "display_name": "Python 3",
   "language": "python",
   "name": "python3"
  },
  "language_info": {
   "codemirror_mode": {
    "name": "ipython",
    "version": 3
   },
   "file_extension": ".py",
   "mimetype": "text/x-python",
   "name": "python",
   "nbconvert_exporter": "python",
   "pygments_lexer": "ipython3",
   "version": "3.5.4"
  }
 },
 "nbformat": 4,
 "nbformat_minor": 2
}
