{
 "cells": [
  {
   "cell_type": "markdown",
   "metadata": {},
   "source": [
    "## Command line interface (CLIs)\n",
    "\n",
    "So far we have focused on writing Python scripts and even developing Python packages that other Python users could use. But what if we wanted to distribute a program that runs from the command line to accomplish some task, and doesn't require the user to know any Python at all. Well, it turns out Python is great for this. The difference between designing a Python package meant to be used in Python versus a program that is meant to be run from a terminal is called developing an API (application user inferface) versus a CLI (command line interface). In general, it is good practice to write your code *as if* you plan for it be used as an API even if it never will, simply because it encourages you to write cleaner simpler Python code. But, it is certainly possible to write and develop Python code to make a nice CLI without have a very functional API. "
   ]
  },
  {
   "cell_type": "markdown",
   "metadata": {},
   "source": [
    "### Example of good API structure\n",
    "We've talked about this a bit so far. A good API structure organizes code that uses related functions or data into Classes, and it tries to group many small atomic functions into few larger composite functions that are actually called by a user. And objects should be designed using private functions (functions whose names start with an underscore) to hide all funtions that users are not intended to call so that when they use tab-completion to see the available options for an object they seem only the relevant types. "
   ]
  },
  {
   "cell_type": "markdown",
   "metadata": {},
   "source": [
    "### Example of good CLI structure\n",
    "Command line programs can be written in many different ways, but many good ones have a lot of features in common. This includes working like standard unix commands that can accept input and output arguments through pipes. Taking arguments through flags (e.g., `-c` and `-p`), and having a rather concise help message accessible with `-h`. Writing a CLI as a Python function can be done easily using the `setuptools` package that we saw earlier for use in packaging Python, as well with the `argparse` package for setting up a way to parse optional arguments. I highly recommend reading the [argparse docs](https://docs.python.org/3/howto/argparse.html) alongside or after this tutorial if you wish to know more about writing Python CLIs. You'll see that there are very advanced ways to write argument parsers for the command line. "
   ]
  },
  {
   "cell_type": "markdown",
   "metadata": {},
   "source": [
    "### Example: Writing a CLI for `helloworld`\n",
    "We'll use our helloworld package as an example. You will eventually turn in the finished package for your assignment. First, let's write a more advanced Helloworld script. Follow along with these instructions by making changes to your code in helloworld using the sublimetext editor. After making your changes you can test your code in this notebook by hitting the restart button (to reload the changes in your package) and then running the new imported code. I show an example below of running sublimetext and a notebook side-by-side. This is my typical workflow when developing, and I find it quite useful. Remember that you need to save your changes in the text file for them to take effect. You can save by going to File in the menu bar, or by using a key-binding shortcut. In emacs-mode it is `ctrl-x ctrl-s`. "
   ]
  },
  {
   "cell_type": "code",
   "execution_count": 1,
   "metadata": {},
   "outputs": [
    {
     "name": "stdout",
     "output_type": "stream",
     "text": [
      "hello world\n"
     ]
    }
   ],
   "source": [
    "import helloworld\n",
    "helloworld.helloworld()"
   ]
  },
  {
   "cell_type": "markdown",
   "metadata": {},
   "source": [
    "![pip-dev-example.gif](../images/pip-dev-example.gif)"
   ]
  },
  {
   "cell_type": "markdown",
   "metadata": {},
   "source": [
    "### Add arguments to the `helloworld()` function\n",
    "Using sublimetext edit the `helloworld` function to take at least two arguments and to execute a conditional print() statement in response to both. Come up with whatever you want for these two arguments, below I show two examples that I wrote. One uses the datetime package and the other using the random package. Be creative, but don't spend too much time on it. When you are done, test your functions like we did above by reloading the notebook and check that your functions work like expected. "
   ]
  },
  {
   "cell_type": "code",
   "execution_count": 3,
   "metadata": {},
   "outputs": [],
   "source": [
    "import random\n",
    "import datetime\n",
    "\n",
    "def helloworld(name=None, howlong=None, countdown=None):\n",
    "    \"\"\"\n",
    "    return hello world, or hello {name}\n",
    "    \"\"\"\n",
    "\n",
    "    # print greeting\n",
    "    if not name:\n",
    "        print(\"hello world\")\n",
    "    else:\n",
    "        print(\"hello {}\".format(name))\n",
    "\n",
    "    # print days til Darwin's birthday\n",
    "    if howlong:\n",
    "        dday = datetime.datetime(2019, 2, 12)\n",
    "        diff = dday - datetime.datetime.now()\n",
    "        print(\"{} days until Darwin's birthday\".format(diff.days))\n",
    "\n",
    "    # print countdown to armageddon\n",
    "    if countdown:\n",
    "        end = random.randint(0, 100)\n",
    "        print(\"the world will end in {} days... maybe\".format(end))\n"
   ]
  },
  {
   "cell_type": "code",
   "execution_count": 11,
   "metadata": {},
   "outputs": [
    {
     "name": "stdout",
     "output_type": "stream",
     "text": [
      "hello world\n",
      "the world will end in 2 days... maybe\n"
     ]
    }
   ],
   "source": [
    "helloworld(countdown=True)"
   ]
  },
  {
   "cell_type": "markdown",
   "metadata": {},
   "source": [
    "### Create a new file called `__main__.py`\n",
    "We could name this file whatever we wanted, but the standard naming convention for the type of file we are about to create is to call it `__main__.py`, even though it looks a bit strange. This is the file that will hold the code to parse command line options, and it should be located in the `helloworld/helloworld/` directory next to `helloworld.py`. \n",
    "\n",
    "You can see that the general flow is to import your package (helloworld) at the top along with the argparse package. We then write a function to parse command line arguments using an Class instance from the argpase library. An `add_argument()` call needs to be made for each option in your helloworld function. The first option in mine (name) stores a string argument, so I entered str as the type. The latter two simply store True or False so they are set to `store_true`. You can read more in the argparse docs for details on what other options are available. Read on to the next part before you try executing code in `__main__.py` since we need to do one more thing before we can actually run it. "
   ]
  },
  {
   "cell_type": "code",
   "execution_count": 12,
   "metadata": {},
   "outputs": [],
   "source": [
    "#!/usr/bin/env python\n",
    "\n",
    "import argparse\n",
    "import helloworld\n",
    "\n",
    "\n",
    "def parse_command_line():\n",
    "    \" parses args for the helloworld.py funtions\"\n",
    "\n",
    "    # init parser and add arguments\n",
    "    parser = argparse.ArgumentParser()\n",
    "\n",
    "    # add short args\n",
    "    parser.add_argument(\n",
    "        \"-n\", \"--name\",\n",
    "        help=\"optional name to say hello to\",\n",
    "        type=str)\n",
    "\n",
    "    # add long args\n",
    "    parser.add_argument(\n",
    "        \"--howlong\",\n",
    "        help=\"print days until Darwin's next birthday\",\n",
    "        action=\"store_true\")\n",
    "\n",
    "    parser.add_argument(\n",
    "        \"--countdown\",\n",
    "        help=\"print predicted days until end of the world\",\n",
    "        action=\"store_true\")\n",
    "\n",
    "    # parse args\n",
    "    args = parser.parse_args()\n",
    "    return args\n",
    "\n",
    "\n",
    "def main():\n",
    "    \" run helloworld on parsed args\"\n",
    "    args = parse_command_line()\n",
    "    helloworld.helloworld(\n",
    "        name=args.name,\n",
    "        howlong=args.howlong,\n",
    "        countdown=args.countdown)\n"
   ]
  },
  {
   "cell_type": "markdown",
   "metadata": {},
   "source": [
    "### Adding entry_point to `setup.py`\n",
    "Now we go back to the `setup.py` script. The `setuptools` package that we used here has a convenient way of creating a CLI program the way that we want, and also for making sure that it works on any kind of system (e.g., it will have a .exe ending if we are on windows). Here we simply need to add an argument called `entry_point` to `setup()` and write the nested path to the `main()` function of the `__main__.py` module we just wrote. This is written like below, which you can copy verbatim to your setup.py script. "
   ]
  },
  {
   "cell_type": "code",
   "execution_count": null,
   "metadata": {},
   "outputs": [],
   "source": [
    "from setuptools import setup, find_packages\n",
    "setup(\n",
    "    name=\"helloworld\",\n",
    "    version=\"0.1\",\n",
    "    packages=find_packages(),\n",
    "    entry_points={\n",
    "        'console_scripts': ['helloworld = helloworld.__main__:main']\n",
    "        }\n",
    ")"
   ]
  },
  {
   "cell_type": "markdown",
   "metadata": {},
   "source": [
    "## Testing your CLI\n",
    "Now that setuptools is setup to make a console script, and our `__main__.py` script is written, we can test it. Simply call `pip install -e .` to reinstall our package and build the CLI tool. Then, if all works out, you should be able to call your command line tool. If not, try to find the error and fix it. If you get stuck, ask questions on the chatroom. Below shows an example of the script above working. You can see that it automatically has the option `-h` built into it even though we didn't define it. That's because this is a special reserved name for the help menu.  "
   ]
  },
  {
   "cell_type": "markdown",
   "metadata": {},
   "source": [
    "![helloworld-cli.gif](../images/helloworld-cli.gif)\n"
   ]
  },
  {
   "cell_type": "markdown",
   "metadata": {},
   "source": [
    "### Submit Assignment\n",
    "For your assignment you are going to finish polishing up this package and then push it to **your** GitHub account as a new repo. You can see [my example here](https://github.com/programming-for-bio/helloworld). You will not need to make a pull-request for this Assignment.  "
   ]
  },
  {
   "cell_type": "markdown",
   "metadata": {},
   "source": [
    "#### (1) Create a new GitHub repo named helloworld\n",
    "To submit this assignment you will need to create a new repo on GitHub called `helloworld`. If you have one that already exists named helloworld go ahead and remove it first (look under the Settings tab in the repo). When you click on [New] on GitHub to create the repo you will see two options near the bottom of the screen asking you if you want to create a `.gitignore` file and a LICENSE. Say yes to both, and select GPLv3 as the license type. "
   ]
  },
  {
   "cell_type": "markdown",
   "metadata": {},
   "source": [
    "#### (2) Init repo and pull the GitHub files into your directory\n"
   ]
  },
  {
   "cell_type": "markdown",
   "metadata": {},
   "source": [
    "In a terminal `cd` into your `helloworld` directory and run the commands below to connect your directory to your GitHub repo. Remember that you need to have first created the repo on GitHub so that the remote address exists, and that you need to `cd` into the directory in your terminal to run the commands below. "
   ]
  },
  {
   "cell_type": "code",
   "execution_count": null,
   "metadata": {},
   "outputs": [],
   "source": [
    "git init\n",
    "git remote add origin https://github.com/<your-username>/helloworld.git\n",
    "git pull origin master"
   ]
  },
  {
   "cell_type": "markdown",
   "metadata": {},
   "source": [
    "#### (3) Edit the .gitignore file\n",
    "Remember that when we created the repository we asked for it to create a `.gitignore` file for us. If you missed this step it's ok, simply create a new empty file in your directory called `.gitignore`. Now let's add some text to this file. On separate lines of the file we can use wildcard selectors to tell it all the names of files that we do not want to track. Use `ls` to look at your helloworld directory currently. You'll see there is an extra directory that was created when we used `pip install` (`helloworld.egg-info/`) which holds information about where it is installed. We don't need to save this. Similarly, inside the `helloworld/` directory there is a directory called `__pycache__` and a copy of each of our `.py` files ending in `.pyc`. These are *compiled* versions of our code that are created when it is run, basically it is Pythons way of converting from human readable code to machine readable code. These will be created whenever a .py file is executed. We do not need to save these either, since they are generated new by other users when they execute our code. So let's add all of this to our `.gitignore` file like below. "
   ]
  },
  {
   "cell_type": "code",
   "execution_count": null,
   "metadata": {},
   "outputs": [],
   "source": [
    "## ensure git ignores these files\n",
    "*.pyc\n",
    "*.egg-info/\n",
    "__pycache__/"
   ]
  },
  {
   "cell_type": "markdown",
   "metadata": {},
   "source": [
    "#### (4) Push changes to origin master\n",
    "Add all of the files in your package to stage them for a commit and then make a commit with your first message. Then push to `origin master` and use the `-u` flag, which tells it that from now on you want your master branch to track the `origin` master branch. This is required because we initialized our `git` repository from an exiting directory rather than cloning it directly as we have often done in the past. "
   ]
  },
  {
   "cell_type": "code",
   "execution_count": null,
   "metadata": {},
   "outputs": [],
   "source": [
    "## add the files to wish to push to origin\n",
    "git add .gitignore README.md setup.py helloworld/*.py\n",
    "git commit -m \"added package files for first commit\"\n",
    "git push -u origin master"
   ]
  },
  {
   "cell_type": "markdown",
   "metadata": {},
   "source": [
    "#### (5) Add more details to setup.py\n",
    "I added additional information to my setup.py file so that it contains information \n",
    "to give me credit and ownership over my package. Add the same information to your setup.py\n",
    "file by replacing my information with yours (see \n",
    "[here](https://github.com/programming-for-bio/helloworld).). After you make changes to setup.py make sure you run `pip install -e .` again and that it successfully installs and does not raise an error. If all is well then push the changes to origin. "
   ]
  },
  {
   "cell_type": "code",
   "execution_count": null,
   "metadata": {},
   "outputs": [],
   "source": [
    "## update setup.py\n",
    "git add setup.py\n",
    "git commit -m \"updated setup.py to be fancier\"\n",
    "git push"
   ]
  },
  {
   "cell_type": "markdown",
   "metadata": {},
   "source": [
    "#### (6) Files I don't want to see in your repo\n",
    "You should not see the directory `helloworld.egg-info/` in your repository, or the `helloworld/__pycache__` directory, or any files that end in `.pyc`. If you do see any of them then use `git rm <filename>` to remove them and commit those changes. Ensure you .gitignore file is setup to exclude them. "
   ]
  },
  {
   "cell_type": "markdown",
   "metadata": {},
   "source": [
    "#### (7) Update the README file \n",
    "Edit the README.md file using sublimetext and the Markdown Preview function. Add instructions for how to install and use your package. Then commit and push the changes. You can look at my example README file for an example. "
   ]
  },
  {
   "cell_type": "code",
   "execution_count": null,
   "metadata": {},
   "outputs": [],
   "source": [
    "## update README.md\n",
    "git add README.md\n",
    "git commit -m \"updated readme file with instructions\"\n",
    "git push"
   ]
  },
  {
   "cell_type": "markdown",
   "metadata": {},
   "source": [
    "#### (8) Make assignment available for code review"
   ]
  },
  {
   "cell_type": "markdown",
   "metadata": {},
   "source": [
    "You are now finished with creating your first fully functional Python program and library. This is a great accomplishment. Many people create and distribute programs that are able to accomplish some task but which are designed and packaged in a very slapdash disorganized way. Now that you have the knowledge to create a professional looking program even your slapdash code will look very professional by comparison. Look over the structure of your finished `helloworld` repo. We'll create more repos like this in the future. We will check on Friday that your helloworld repo is uploaded to mark that your assignment is finished on time. \n",
    "\n",
    "\n",
    "Go to the [Code-Review page](https://github.com/programming-for-bio/5-Packaging/tree/master/Code-Review) next to find instructions for performing your code review of your peer's code. \n"
   ]
  }
 ],
 "metadata": {
  "kernelspec": {
   "display_name": "Python 3",
   "language": "python",
   "name": "python3"
  },
  "language_info": {
   "codemirror_mode": {
    "name": "ipython",
    "version": 3
   },
   "file_extension": ".py",
   "mimetype": "text/x-python",
   "name": "python",
   "nbconvert_exporter": "python",
   "pygments_lexer": "ipython3",
   "version": "3.5.4"
  }
 },
 "nbformat": 4,
 "nbformat_minor": 2
}
